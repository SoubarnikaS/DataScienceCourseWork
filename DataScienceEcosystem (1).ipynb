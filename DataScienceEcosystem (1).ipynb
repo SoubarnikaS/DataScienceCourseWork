{
 "cells": [
  {
   "cell_type": "markdown",
   "id": "2a0e3e87-e11d-40c3-b561-908b3f751a4f",
   "metadata": {},
   "source": [
    "# Data Science Tools and Ecosystem"
   ]
  },
  {
   "cell_type": "markdown",
   "id": "03df1e60-e624-4b3a-955e-7155df71578f",
   "metadata": {},
   "source": [
    "In this notebook, Data Science Tools and Ecosystem are summarized."
   ]
  },
  {
   "cell_type": "markdown",
   "id": "c5687790-899e-4384-b93f-d82676ad5bf2",
   "metadata": {},
   "source": [
    "Some of the popular languages that Data Scientists use are:\n",
    "\n",
    "    1.Python\n",
    "    2.R\n",
    "    3.Julia\n",
    "    4.Scala"
   ]
  },
  {
   "cell_type": "markdown",
   "id": "6b70a17a-bb8c-4964-a48d-e4bb4459f1f1",
   "metadata": {},
   "source": [
    "Objectives:\n",
    "        \n",
    "        *Create markdown cells\n",
    "        *Add comments\n",
    "        *Heading style format\n",
    "        *Add ordered and unordered list\n"
   ]
  },
  {
   "cell_type": "markdown",
   "id": "3a5b3df5-7f77-41ec-b690-7474ba98da9e",
   "metadata": {},
   "source": [
    "Apache SparkSome of the commonly used libraries used by Data Scientists include:\n",
    "    \n",
    "    1.TensorFlow\n",
    "    2.NumPy\n",
    "    3.Pandas\n",
    "    4.Matplotlib "
   ]
  },
  {
   "cell_type": "markdown",
   "id": "819b4d0d-3989-496d-bd41-75b31f907852",
   "metadata": {},
   "source": [
    "|Data Science Tools|\n",
    "|------------------|\n",
    "|ggplot|\n",
    "|Apache Spark|\n",
    "|BigML|\n"
   ]
  },
  {
   "cell_type": "markdown",
   "id": "8465f6aa-084c-4906-8841-aeef46f63fca",
   "metadata": {
    "tags": []
   },
   "source": [
    "### Below are a few examples of evaluating arithmetic expressions in Python"
   ]
  },
  {
   "cell_type": "code",
   "execution_count": 2,
   "id": "b2148b17-f4a9-457e-8473-9e07e4d19777",
   "metadata": {},
   "outputs": [
    {
     "data": {
      "text/plain": [
       "17"
      ]
     },
     "execution_count": 2,
     "metadata": {},
     "output_type": "execute_result"
    }
   ],
   "source": [
    "(3*4)+5"
   ]
  },
  {
   "cell_type": "code",
   "execution_count": 3,
   "id": "c4b8ea00-62df-46af-a32e-4f0799f9e545",
   "metadata": {},
   "outputs": [
    {
     "data": {
      "text/plain": [
       "3.3333333333333335"
      ]
     },
     "execution_count": 3,
     "metadata": {},
     "output_type": "execute_result"
    }
   ],
   "source": [
    "200/60"
   ]
  },
  {
   "cell_type": "markdown",
   "id": "90a8fea8-0e3c-4106-885d-4c15998b0411",
   "metadata": {},
   "source": [
    "## Author:\n",
    "Soubarnika S"
   ]
  },
  {
   "cell_type": "code",
   "execution_count": null,
   "id": "7fcea384-6aad-4375-aef7-29e312aabad8",
   "metadata": {},
   "outputs": [],
   "source": []
  }
 ],
 "metadata": {
  "kernelspec": {
   "display_name": "Python",
   "language": "python",
   "name": "conda-env-python-py"
  },
  "language_info": {
   "codemirror_mode": {
    "name": "ipython",
    "version": 3
   },
   "file_extension": ".py",
   "mimetype": "text/x-python",
   "name": "python",
   "nbconvert_exporter": "python",
   "pygments_lexer": "ipython3",
   "version": "3.7.12"
  }
 },
 "nbformat": 4,
 "nbformat_minor": 5
}
